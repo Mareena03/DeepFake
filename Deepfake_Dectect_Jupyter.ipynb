{
  "cells": [
    {
      "cell_type": "markdown",
      "metadata": {
        "id": "joKIU35uO28O"
      },
      "source": [
        "Pradyumna Yadav (191010228)\n",
        "Priyansh Sharma (191010230)\n",
        "Sakshi Verma (191010239)"
      ]
    },
    {
      "cell_type": "markdown",
      "metadata": {
        "id": "--s8DpG9KyMr"
      },
      "source": [
        "Kaggle dataset: Deepfake detection dataset: https://www.kaggle.com/c/deepfake-detection-challenge/data?select=train_sample_videos"
      ]
    },
    {
      "cell_type": "markdown",
      "metadata": {
        "id": "4r_ajNmEAJk1"
      },
      "source": [
        "# Mounting drive to access dataset\n"
      ]
    },
    {
      "cell_type": "code",
      "execution_count": null,
      "metadata": {
        "colab": {
          "base_uri": "https://localhost:8080/"
        },
        "id": "ioA_qX5Lkb0o",
        "outputId": "a626af58-ebf4-42b7-e086-15c03f205c85"
      },
      "outputs": [
        {
          "output_type": "stream",
          "name": "stdout",
          "text": [
            "Mounted at /content/gdrive\n"
          ]
        }
      ],
      "source": [
        "from google.colab import drive\n",
        "drive.mount('/content/gdrive', force_remount=False)"
      ]
    },
    {
      "cell_type": "code",
      "execution_count": null,
      "metadata": {
        "colab": {
          "base_uri": "https://localhost:8080/"
        },
        "id": "_T8HGazfGVeI",
        "outputId": "2a531a4a-115c-4d1e-af19-5d6f78b6b9d6",
        "tags": []
      },
      "outputs": [
        {
          "output_type": "stream",
          "name": "stdout",
          "text": [
            "Reading package lists... Done\n",
            "Building dependency tree... Done\n",
            "Reading state information... Done\n",
            "The following additional packages will be installed:\n",
            "  libpython3.8-minimal libpython3.8-stdlib python3.8-minimal\n",
            "Suggested packages:\n",
            "  python3.8-venv binfmt-support\n",
            "The following NEW packages will be installed:\n",
            "  libpython3.8-minimal libpython3.8-stdlib python3.8 python3.8-minimal\n",
            "0 upgraded, 4 newly installed, 0 to remove and 39 not upgraded.\n",
            "Need to get 5,071 kB of archives.\n",
            "After this operation, 18.8 MB of additional disk space will be used.\n",
            "Get:1 https://ppa.launchpadcontent.net/deadsnakes/ppa/ubuntu jammy/main amd64 libpython3.8-minimal amd64 3.8.18-1+jammy1 [794 kB]\n",
            "Get:2 https://ppa.launchpadcontent.net/deadsnakes/ppa/ubuntu jammy/main amd64 python3.8-minimal amd64 3.8.18-1+jammy1 [2,024 kB]\n",
            "Get:3 https://ppa.launchpadcontent.net/deadsnakes/ppa/ubuntu jammy/main amd64 libpython3.8-stdlib amd64 3.8.18-1+jammy1 [1,815 kB]\n",
            "Get:4 https://ppa.launchpadcontent.net/deadsnakes/ppa/ubuntu jammy/main amd64 python3.8 amd64 3.8.18-1+jammy1 [438 kB]\n",
            "Fetched 5,071 kB in 1s (3,564 kB/s)\n",
            "Selecting previously unselected package libpython3.8-minimal:amd64.\n",
            "(Reading database ... 122398 files and directories currently installed.)\n",
            "Preparing to unpack .../libpython3.8-minimal_3.8.18-1+jammy1_amd64.deb ...\n",
            "Unpacking libpython3.8-minimal:amd64 (3.8.18-1+jammy1) ...\n",
            "Selecting previously unselected package python3.8-minimal.\n",
            "Preparing to unpack .../python3.8-minimal_3.8.18-1+jammy1_amd64.deb ...\n",
            "Unpacking python3.8-minimal (3.8.18-1+jammy1) ...\n",
            "Selecting previously unselected package libpython3.8-stdlib:amd64.\n",
            "Preparing to unpack .../libpython3.8-stdlib_3.8.18-1+jammy1_amd64.deb ...\n",
            "Unpacking libpython3.8-stdlib:amd64 (3.8.18-1+jammy1) ...\n",
            "Selecting previously unselected package python3.8.\n",
            "Preparing to unpack .../python3.8_3.8.18-1+jammy1_amd64.deb ...\n",
            "Unpacking python3.8 (3.8.18-1+jammy1) ...\n",
            "Setting up libpython3.8-minimal:amd64 (3.8.18-1+jammy1) ...\n",
            "Setting up python3.8-minimal (3.8.18-1+jammy1) ...\n",
            "Setting up libpython3.8-stdlib:amd64 (3.8.18-1+jammy1) ...\n",
            "Setting up python3.8 (3.8.18-1+jammy1) ...\n",
            "Processing triggers for man-db (2.10.2-1) ...\n",
            "Processing triggers for mailcap (3.70+nmu1ubuntu1) ...\n"
          ]
        }
      ],
      "source": [
        "!apt-get install python3.8"
      ]
    },
    {
      "cell_type": "code",
      "source": [],
      "metadata": {
        "colab": {
          "base_uri": "https://localhost:8080/"
        },
        "id": "Of4KeXigQ6HD",
        "outputId": "cddc1c81-2f03-4caa-a5aa-a5e8613332db"
      },
      "execution_count": null,
      "outputs": [
        {
          "output_type": "stream",
          "name": "stdout",
          "text": [
            "\u001b[31mERROR: Could not find a version that satisfies the requirement tensorflow==2.4.1 (from versions: 2.8.0rc0, 2.8.0rc1, 2.8.0, 2.8.1, 2.8.2, 2.8.3, 2.8.4, 2.9.0rc0, 2.9.0rc1, 2.9.0rc2, 2.9.0, 2.9.1, 2.9.2, 2.9.3, 2.10.0rc0, 2.10.0rc1, 2.10.0rc2, 2.10.0rc3, 2.10.0, 2.10.1, 2.11.0rc0, 2.11.0rc1, 2.11.0rc2, 2.11.0, 2.11.1, 2.12.0rc0, 2.12.0rc1, 2.12.0, 2.12.1, 2.13.0rc0, 2.13.0rc1, 2.13.0rc2, 2.13.0, 2.13.1, 2.14.0rc0, 2.14.0rc1, 2.14.0, 2.14.1, 2.15.0rc0, 2.15.0rc1, 2.15.0, 2.15.0.post1, 2.15.1, 2.16.0rc0, 2.16.1)\u001b[0m\u001b[31m\n",
            "\u001b[0m\u001b[31mERROR: No matching distribution found for tensorflow==2.4.1\u001b[0m\u001b[31m\n",
            "\u001b[0m"
          ]
        }
      ]
    },
    {
      "cell_type": "code",
      "source": [
        "!pip install virtualenv\n",
        "\n"
      ],
      "metadata": {
        "colab": {
          "base_uri": "https://localhost:8080/"
        },
        "id": "u3lCoT27SD0q",
        "outputId": "bb90adc7-462d-4f38-ab99-9be44910ed54"
      },
      "execution_count": null,
      "outputs": [
        {
          "output_type": "stream",
          "name": "stdout",
          "text": [
            "Collecting virtualenv\n",
            "  Downloading virtualenv-20.25.1-py3-none-any.whl (3.8 MB)\n",
            "\u001b[2K     \u001b[90m━━━━━━━━━━━━━━━━━━━━━━━━━━━━━━━━━━━━━━━━\u001b[0m \u001b[32m3.8/3.8 MB\u001b[0m \u001b[31m12.1 MB/s\u001b[0m eta \u001b[36m0:00:00\u001b[0m\n",
            "\u001b[?25hCollecting distlib<1,>=0.3.7 (from virtualenv)\n",
            "  Downloading distlib-0.3.8-py2.py3-none-any.whl (468 kB)\n",
            "\u001b[2K     \u001b[90m━━━━━━━━━━━━━━━━━━━━━━━━━━━━━━━━━━━━━━━━\u001b[0m \u001b[32m468.9/468.9 kB\u001b[0m \u001b[31m36.2 MB/s\u001b[0m eta \u001b[36m0:00:00\u001b[0m\n",
            "\u001b[?25hRequirement already satisfied: filelock<4,>=3.12.2 in /usr/local/lib/python3.10/dist-packages (from virtualenv) (3.13.3)\n",
            "Requirement already satisfied: platformdirs<5,>=3.9.1 in /usr/local/lib/python3.10/dist-packages (from virtualenv) (4.2.0)\n",
            "Installing collected packages: distlib, virtualenv\n",
            "Successfully installed distlib-0.3.8 virtualenv-20.25.1\n"
          ]
        }
      ]
    },
    {
      "cell_type": "code",
      "source": [
        "!virtualenv -p /usr/bin/python3.8 myenv\n"
      ],
      "metadata": {
        "colab": {
          "base_uri": "https://localhost:8080/"
        },
        "id": "81Ryfqe8SgLi",
        "outputId": "aeea6274-f024-43cf-a659-333097cbee66"
      },
      "execution_count": null,
      "outputs": [
        {
          "output_type": "stream",
          "name": "stdout",
          "text": [
            "created virtual environment CPython3.8.18.final.0-64 in 1699ms\n",
            "  creator CPython3Posix(dest=/content/myenv, clear=False, no_vcs_ignore=False, global=False)\n",
            "  seeder FromAppData(download=False, pip=bundle, setuptools=bundle, wheel=bundle, via=copy, app_data_dir=/root/.local/share/virtualenv)\n",
            "    added seed packages: pip==24.0, setuptools==69.1.0, wheel==0.42.0\n",
            "  activators BashActivator,CShellActivator,FishActivator,NushellActivator,PowerShellActivator,PythonActivator\n"
          ]
        }
      ]
    },
    {
      "cell_type": "code",
      "source": [
        "!source myenv/bin/activate\n"
      ],
      "metadata": {
        "id": "iV6dYAsrSlNR"
      },
      "execution_count": null,
      "outputs": []
    },
    {
      "cell_type": "code",
      "source": [
        "!pip install tensorflow==2.4.1"
      ],
      "metadata": {
        "colab": {
          "base_uri": "https://localhost:8080/"
        },
        "id": "KSISzGF2Sn27",
        "outputId": "d39d0182-2b61-44b0-eb71-1ecfecbb847f"
      },
      "execution_count": null,
      "outputs": [
        {
          "output_type": "stream",
          "name": "stdout",
          "text": [
            "\u001b[31mERROR: Could not find a version that satisfies the requirement tensorflow==2.4.1 (from versions: 2.8.0rc0, 2.8.0rc1, 2.8.0, 2.8.1, 2.8.2, 2.8.3, 2.8.4, 2.9.0rc0, 2.9.0rc1, 2.9.0rc2, 2.9.0, 2.9.1, 2.9.2, 2.9.3, 2.10.0rc0, 2.10.0rc1, 2.10.0rc2, 2.10.0rc3, 2.10.0, 2.10.1, 2.11.0rc0, 2.11.0rc1, 2.11.0rc2, 2.11.0, 2.11.1, 2.12.0rc0, 2.12.0rc1, 2.12.0, 2.12.1, 2.13.0rc0, 2.13.0rc1, 2.13.0rc2, 2.13.0, 2.13.1, 2.14.0rc0, 2.14.0rc1, 2.14.0, 2.14.1, 2.15.0rc0, 2.15.0rc1, 2.15.0, 2.15.0.post1, 2.15.1, 2.16.0rc0, 2.16.1)\u001b[0m\u001b[31m\n",
            "\u001b[0m\u001b[31mERROR: No matching distribution found for tensorflow==2.4.1\u001b[0m\u001b[31m\n",
            "\u001b[0m"
          ]
        }
      ]
    },
    {
      "cell_type": "code",
      "source": [
        "import sys\n",
        "print(sys.version)\n"
      ],
      "metadata": {
        "colab": {
          "base_uri": "https://localhost:8080/"
        },
        "id": "-Fdwb7vsSte6",
        "outputId": "3cd3a112-b28b-4d8c-c147-ee3948ff45a6"
      },
      "execution_count": null,
      "outputs": [
        {
          "output_type": "stream",
          "name": "stdout",
          "text": [
            "3.10.12 (main, Nov 20 2023, 15:14:05) [GCC 11.4.0]\n"
          ]
        }
      ]
    },
    {
      "cell_type": "code",
      "source": [
        "import zipfile\n",
        "\n",
        "# Define the path to the zip file\n",
        "zip_file_path = '/content/gdrive/MyDrive/dataset.zip'\n",
        "\n",
        "# Define the directory where you want to extract the contents\n",
        "extract_dir = '/content/gdrive/MyDrive'\n",
        "\n",
        "# Open the zip file\n",
        "with zipfile.ZipFile(zip_file_path, 'r') as zip_ref:\n",
        "    # Extract all the contents to the specified directory\n",
        "    zip_ref.extractall(extract_dir)\n",
        "\n",
        "# Optionally, you can print a message to confirm the extraction\n",
        "print(\"Extraction complete.\")\n"
      ],
      "metadata": {
        "colab": {
          "base_uri": "https://localhost:8080/"
        },
        "id": "fBAJBEtM2tpZ",
        "outputId": "87bc78c0-82d5-494f-a1da-f76262686f9f"
      },
      "execution_count": null,
      "outputs": [
        {
          "output_type": "stream",
          "name": "stdout",
          "text": [
            "Extraction complete.\n"
          ]
        }
      ]
    },
    {
      "cell_type": "markdown",
      "metadata": {
        "id": "E-7f5FKiAjl5"
      },
      "source": [
        "# Importing Libraries"
      ]
    },
    {
      "cell_type": "code",
      "execution_count": null,
      "metadata": {
        "id": "izMgzvQHped6",
        "tags": []
      },
      "outputs": [],
      "source": [
        "import dlib\n",
        "import cv2\n",
        "import os\n",
        "import re\n",
        "import json\n",
        "from pylab import *\n",
        "from PIL import Image, ImageChops, ImageEnhance"
      ]
    },
    {
      "cell_type": "code",
      "execution_count": null,
      "metadata": {
        "id": "hhtZqw1su-aK",
        "tags": []
      },
      "outputs": [],
      "source": [
        "import os\n",
        "import cv2\n",
        "import json\n",
        "import tensorflow as tf\n",
        "import numpy as np\n",
        "import matplotlib.pyplot as plt\n",
        "import seaborn as sn\n",
        "import pandas as pd\n",
        "import pickle\n",
        "from tensorflow.keras.preprocessing.image import ImageDataGenerator, img_to_array, load_img\n",
        "from tensorflow.keras.utils import to_categorical\n",
        "from sklearn.model_selection import train_test_split\n",
        "from sklearn.metrics import confusion_matrix"
      ]
    },
    {
      "cell_type": "markdown",
      "metadata": {
        "id": "rXdQ2HM3Av0t"
      },
      "source": [
        "#Pre-processing"
      ]
    },
    {
      "cell_type": "code",
      "execution_count": null,
      "metadata": {
        "id": "jr8h7ykOvJkk",
        "tags": []
      },
      "outputs": [],
      "source": [
        "input_shape = (128, 128, 3)\n",
        "data_dir = '/content/gdrive/MyDrive/dataset'\n",
        "\n",
        "real_data = [f for f in os.listdir(data_dir+'/real') if f.endswith('.png')]\n",
        "fake_data = [f for f in os.listdir(data_dir+'/fake') if f.endswith('.png')]\n",
        "\n",
        "X = []\n",
        "Y = []\n",
        "\n",
        "for img in real_data:\n",
        "    X.append(img_to_array(load_img(data_dir+'/real/'+img)).flatten() / 255.0)\n",
        "    Y.append(0)\n",
        "for img in fake_data:\n",
        "    X.append(img_to_array(load_img(data_dir+'/fake/'+img)).flatten() / 255.0)\n",
        "    Y.append(1)\n",
        "\n",
        "X_pkl = '/content/gdrive/MyDrive/dataset/X_pkl.pkl'\n",
        "Y_pkl = '/content/gdrive/MyDrive/dataset/Y_pkl.pkl'\n",
        "with open(X_pkl,'wb') as f:\n",
        "  pickle.dump(X,f)\n",
        "\n",
        "with open(Y_pkl,'wb') as f:\n",
        "  pickle.dump(Y,f)"
      ]
    },
    {
      "cell_type": "code",
      "execution_count": null,
      "metadata": {
        "id": "XEpMgsJyot1j"
      },
      "outputs": [],
      "source": [
        "input_shape = (128, 128, 3)\n",
        "X_pkl = '/content/gdrive/MyDrive/dataset/X_pkl.pkl'\n",
        "Y_pkl = '/content/gdrive/MyDrive/dataset/Y_pkl.pkl'\n",
        "\n",
        "X = pickle.load(open(X_pkl,'rb'))\n",
        "Y = pickle.load(open(Y_pkl,'rb'))\n",
        "\n",
        "Y_val_org = Y\n",
        "\n",
        "#Normalization\n",
        "X = np.array(X)\n",
        "Y = to_categorical(Y, 2)\n",
        "\n",
        "#Reshape\n",
        "X = X.reshape(-1, 128, 128, 3)\n",
        "\n",
        "#Train-Test split\n",
        "X_train, X_val, Y_train, Y_val = train_test_split(X, Y, test_size = 0.2, random_state=5)"
      ]
    },
    {
      "cell_type": "markdown",
      "metadata": {
        "id": "KPx2VT-AAzq0"
      },
      "source": [
        "# VGG16"
      ]
    },
    {
      "cell_type": "code",
      "execution_count": null,
      "metadata": {
        "colab": {
          "base_uri": "https://localhost:8080/"
        },
        "id": "s7XVvnGk1fE4",
        "outputId": "8a239dc0-79d1-4558-e516-6ddde73e3934"
      },
      "outputs": [
        {
          "output_type": "stream",
          "name": "stdout",
          "text": [
            "Model: \"sequential_1\"\n",
            "_________________________________________________________________\n",
            " Layer (type)                Output Shape              Param #   \n",
            "=================================================================\n",
            " vgg16 (Functional)          (None, 4, 4, 512)         14714688  \n",
            "                                                                 \n",
            " global_average_pooling2d_1  (None, 512)               0         \n",
            "  (GlobalAveragePooling2D)                                       \n",
            "                                                                 \n",
            " dense_1 (Dense)             (None, 2)                 1026      \n",
            "                                                                 \n",
            "=================================================================\n",
            "Total params: 14715714 (56.14 MB)\n",
            "Trainable params: 14715714 (56.14 MB)\n",
            "Non-trainable params: 0 (0.00 Byte)\n",
            "_________________________________________________________________\n"
          ]
        },
        {
          "output_type": "stream",
          "name": "stderr",
          "text": [
            "/usr/local/lib/python3.10/dist-packages/keras/src/optimizers/legacy/adam.py:118: UserWarning: The `lr` argument is deprecated, use `learning_rate` instead.\n",
            "  super().__init__(name, **kwargs)\n"
          ]
        }
      ],
      "source": [
        "from tensorflow.keras.applications import VGG16\n",
        "from tensorflow.keras.layers import Conv2D\n",
        "from tensorflow.keras.layers import MaxPooling2D\n",
        "from tensorflow.keras.layers import Flatten\n",
        "from tensorflow.keras.layers import Dense\n",
        "from tensorflow.keras.layers import Dropout\n",
        "from tensorflow.keras.layers import InputLayer\n",
        "from tensorflow.keras.layers import GlobalAveragePooling2D\n",
        "from tensorflow.keras.models import Sequential\n",
        "from tensorflow.keras.models import Model\n",
        "from tensorflow.keras import optimizers\n",
        "from tensorflow.keras.optimizers.legacy import Adam\n",
        "from tensorflow.keras.callbacks import ReduceLROnPlateau, EarlyStopping\n",
        "\n",
        "googleNet_model = VGG16(include_top=False, weights='imagenet', input_shape=input_shape)\n",
        "googleNet_model.trainable = True\n",
        "model = Sequential()\n",
        "model.add(googleNet_model)\n",
        "model.add(GlobalAveragePooling2D())\n",
        "model.add(Dense(units=2, activation='softmax'))\n",
        "\n",
        "model.compile(loss='binary_crossentropy',\n",
        "              optimizer=Adam(lr=1e-5, beta_1=0.9, beta_2=0.999, epsilon=None, decay=0.0, amsgrad=False),\n",
        "              metrics=['accuracy'])\n",
        "model.summary()"
      ]
    },
    {
      "cell_type": "code",
      "source": [
        "!pip install tensorflow"
      ],
      "metadata": {
        "colab": {
          "base_uri": "https://localhost:8080/"
        },
        "id": "93xaIREqTmV7",
        "outputId": "532f693a-627a-4afa-dba0-811a6d23a999"
      },
      "execution_count": null,
      "outputs": [
        {
          "output_type": "stream",
          "name": "stdout",
          "text": [
            "Requirement already satisfied: tensorflow in /usr/local/lib/python3.10/dist-packages (2.15.0)\n",
            "Requirement already satisfied: absl-py>=1.0.0 in /usr/local/lib/python3.10/dist-packages (from tensorflow) (1.4.0)\n",
            "Requirement already satisfied: astunparse>=1.6.0 in /usr/local/lib/python3.10/dist-packages (from tensorflow) (1.6.3)\n",
            "Requirement already satisfied: flatbuffers>=23.5.26 in /usr/local/lib/python3.10/dist-packages (from tensorflow) (24.3.7)\n",
            "Requirement already satisfied: gast!=0.5.0,!=0.5.1,!=0.5.2,>=0.2.1 in /usr/local/lib/python3.10/dist-packages (from tensorflow) (0.5.4)\n",
            "Requirement already satisfied: google-pasta>=0.1.1 in /usr/local/lib/python3.10/dist-packages (from tensorflow) (0.2.0)\n",
            "Requirement already satisfied: h5py>=2.9.0 in /usr/local/lib/python3.10/dist-packages (from tensorflow) (3.9.0)\n",
            "Requirement already satisfied: libclang>=13.0.0 in /usr/local/lib/python3.10/dist-packages (from tensorflow) (18.1.1)\n",
            "Requirement already satisfied: ml-dtypes~=0.2.0 in /usr/local/lib/python3.10/dist-packages (from tensorflow) (0.2.0)\n",
            "Requirement already satisfied: numpy<2.0.0,>=1.23.5 in /usr/local/lib/python3.10/dist-packages (from tensorflow) (1.25.2)\n",
            "Requirement already satisfied: opt-einsum>=2.3.2 in /usr/local/lib/python3.10/dist-packages (from tensorflow) (3.3.0)\n",
            "Requirement already satisfied: packaging in /usr/local/lib/python3.10/dist-packages (from tensorflow) (24.0)\n",
            "Requirement already satisfied: protobuf!=4.21.0,!=4.21.1,!=4.21.2,!=4.21.3,!=4.21.4,!=4.21.5,<5.0.0dev,>=3.20.3 in /usr/local/lib/python3.10/dist-packages (from tensorflow) (3.20.3)\n",
            "Requirement already satisfied: setuptools in /usr/local/lib/python3.10/dist-packages (from tensorflow) (67.7.2)\n",
            "Requirement already satisfied: six>=1.12.0 in /usr/local/lib/python3.10/dist-packages (from tensorflow) (1.16.0)\n",
            "Requirement already satisfied: termcolor>=1.1.0 in /usr/local/lib/python3.10/dist-packages (from tensorflow) (2.4.0)\n",
            "Requirement already satisfied: typing-extensions>=3.6.6 in /usr/local/lib/python3.10/dist-packages (from tensorflow) (4.10.0)\n",
            "Requirement already satisfied: wrapt<1.15,>=1.11.0 in /usr/local/lib/python3.10/dist-packages (from tensorflow) (1.14.1)\n",
            "Requirement already satisfied: tensorflow-io-gcs-filesystem>=0.23.1 in /usr/local/lib/python3.10/dist-packages (from tensorflow) (0.36.0)\n",
            "Requirement already satisfied: grpcio<2.0,>=1.24.3 in /usr/local/lib/python3.10/dist-packages (from tensorflow) (1.62.1)\n",
            "Requirement already satisfied: tensorboard<2.16,>=2.15 in /usr/local/lib/python3.10/dist-packages (from tensorflow) (2.15.2)\n",
            "Requirement already satisfied: tensorflow-estimator<2.16,>=2.15.0 in /usr/local/lib/python3.10/dist-packages (from tensorflow) (2.15.0)\n",
            "Requirement already satisfied: keras<2.16,>=2.15.0 in /usr/local/lib/python3.10/dist-packages (from tensorflow) (2.15.0)\n",
            "Requirement already satisfied: wheel<1.0,>=0.23.0 in /usr/local/lib/python3.10/dist-packages (from astunparse>=1.6.0->tensorflow) (0.43.0)\n",
            "Requirement already satisfied: google-auth<3,>=1.6.3 in /usr/local/lib/python3.10/dist-packages (from tensorboard<2.16,>=2.15->tensorflow) (2.27.0)\n",
            "Requirement already satisfied: google-auth-oauthlib<2,>=0.5 in /usr/local/lib/python3.10/dist-packages (from tensorboard<2.16,>=2.15->tensorflow) (1.2.0)\n",
            "Requirement already satisfied: markdown>=2.6.8 in /usr/local/lib/python3.10/dist-packages (from tensorboard<2.16,>=2.15->tensorflow) (3.6)\n",
            "Requirement already satisfied: requests<3,>=2.21.0 in /usr/local/lib/python3.10/dist-packages (from tensorboard<2.16,>=2.15->tensorflow) (2.31.0)\n",
            "Requirement already satisfied: tensorboard-data-server<0.8.0,>=0.7.0 in /usr/local/lib/python3.10/dist-packages (from tensorboard<2.16,>=2.15->tensorflow) (0.7.2)\n",
            "Requirement already satisfied: werkzeug>=1.0.1 in /usr/local/lib/python3.10/dist-packages (from tensorboard<2.16,>=2.15->tensorflow) (3.0.1)\n",
            "Requirement already satisfied: cachetools<6.0,>=2.0.0 in /usr/local/lib/python3.10/dist-packages (from google-auth<3,>=1.6.3->tensorboard<2.16,>=2.15->tensorflow) (5.3.3)\n",
            "Requirement already satisfied: pyasn1-modules>=0.2.1 in /usr/local/lib/python3.10/dist-packages (from google-auth<3,>=1.6.3->tensorboard<2.16,>=2.15->tensorflow) (0.3.0)\n",
            "Requirement already satisfied: rsa<5,>=3.1.4 in /usr/local/lib/python3.10/dist-packages (from google-auth<3,>=1.6.3->tensorboard<2.16,>=2.15->tensorflow) (4.9)\n",
            "Requirement already satisfied: requests-oauthlib>=0.7.0 in /usr/local/lib/python3.10/dist-packages (from google-auth-oauthlib<2,>=0.5->tensorboard<2.16,>=2.15->tensorflow) (1.4.0)\n",
            "Requirement already satisfied: charset-normalizer<4,>=2 in /usr/local/lib/python3.10/dist-packages (from requests<3,>=2.21.0->tensorboard<2.16,>=2.15->tensorflow) (3.3.2)\n",
            "Requirement already satisfied: idna<4,>=2.5 in /usr/local/lib/python3.10/dist-packages (from requests<3,>=2.21.0->tensorboard<2.16,>=2.15->tensorflow) (3.6)\n",
            "Requirement already satisfied: urllib3<3,>=1.21.1 in /usr/local/lib/python3.10/dist-packages (from requests<3,>=2.21.0->tensorboard<2.16,>=2.15->tensorflow) (2.0.7)\n",
            "Requirement already satisfied: certifi>=2017.4.17 in /usr/local/lib/python3.10/dist-packages (from requests<3,>=2.21.0->tensorboard<2.16,>=2.15->tensorflow) (2024.2.2)\n",
            "Requirement already satisfied: MarkupSafe>=2.1.1 in /usr/local/lib/python3.10/dist-packages (from werkzeug>=1.0.1->tensorboard<2.16,>=2.15->tensorflow) (2.1.5)\n",
            "Requirement already satisfied: pyasn1<0.6.0,>=0.4.6 in /usr/local/lib/python3.10/dist-packages (from pyasn1-modules>=0.2.1->google-auth<3,>=1.6.3->tensorboard<2.16,>=2.15->tensorflow) (0.5.1)\n",
            "Requirement already satisfied: oauthlib>=3.0.0 in /usr/local/lib/python3.10/dist-packages (from requests-oauthlib>=0.7.0->google-auth-oauthlib<2,>=0.5->tensorboard<2.16,>=2.15->tensorflow) (3.2.2)\n"
          ]
        }
      ]
    },
    {
      "cell_type": "code",
      "source": [
        "import tensorflow as tf"
      ],
      "metadata": {
        "id": "j9gGvHynTtGS"
      },
      "execution_count": null,
      "outputs": []
    },
    {
      "cell_type": "code",
      "source": [
        "model.summary()"
      ],
      "metadata": {
        "colab": {
          "base_uri": "https://localhost:8080/"
        },
        "id": "CLsBe419UPQT",
        "outputId": "1dc789ff-cb0e-4e51-e510-f3d64fb04301"
      },
      "execution_count": null,
      "outputs": [
        {
          "output_type": "stream",
          "name": "stdout",
          "text": [
            "Model: \"sequential_2\"\n",
            "_________________________________________________________________\n",
            " Layer (type)                Output Shape              Param #   \n",
            "=================================================================\n",
            " vgg16 (Functional)          (None, 4, 4, 512)         14714688  \n",
            "                                                                 \n",
            " global_average_pooling2d_2  (None, 512)               0         \n",
            "  (GlobalAveragePooling2D)                                       \n",
            "                                                                 \n",
            " dense_2 (Dense)             (None, 2)                 1026      \n",
            "                                                                 \n",
            "=================================================================\n",
            "Total params: 14715714 (56.14 MB)\n",
            "Trainable params: 14715714 (56.14 MB)\n",
            "Non-trainable params: 0 (0.00 Byte)\n",
            "_________________________________________________________________\n"
          ]
        }
      ]
    },
    {
      "cell_type": "markdown",
      "metadata": {
        "id": "_jswN30XA62m"
      },
      "source": [
        "# Training the model"
      ]
    },
    {
      "cell_type": "code",
      "execution_count": null,
      "metadata": {
        "colab": {
          "base_uri": "https://localhost:8080/"
        },
        "id": "T8WM9Sxw1ko3",
        "outputId": "90b548bc-a8eb-46eb-804f-9f3f4b208ec9"
      },
      "outputs": [
        {
          "output_type": "stream",
          "name": "stdout",
          "text": [
            "Epoch 1/20\n",
            "30/30 [==============================] - 68s 1s/step - loss: 0.4891 - accuracy: 0.8001 - val_loss: 0.4754 - val_accuracy: 0.7864\n",
            "Epoch 2/20\n",
            "30/30 [==============================] - 14s 481ms/step - loss: 0.4065 - accuracy: 0.8241 - val_loss: 0.3594 - val_accuracy: 0.8358\n",
            "Epoch 3/20\n",
            "30/30 [==============================] - 14s 463ms/step - loss: 0.3221 - accuracy: 0.8685 - val_loss: 0.3100 - val_accuracy: 0.8598\n",
            "Epoch 4/20\n",
            "30/30 [==============================] - 14s 468ms/step - loss: 0.2610 - accuracy: 0.8982 - val_loss: 0.2644 - val_accuracy: 0.9239\n",
            "Epoch 5/20\n",
            "30/30 [==============================] - 14s 466ms/step - loss: 0.2036 - accuracy: 0.9222 - val_loss: 0.2226 - val_accuracy: 0.9146\n",
            "Epoch 6/20\n",
            "30/30 [==============================] - 14s 467ms/step - loss: 0.1676 - accuracy: 0.9399 - val_loss: 0.2102 - val_accuracy: 0.9159\n",
            "Epoch 7/20\n",
            "30/30 [==============================] - 14s 459ms/step - loss: 0.1460 - accuracy: 0.9439 - val_loss: 0.1747 - val_accuracy: 0.9466\n",
            "Epoch 8/20\n",
            "30/30 [==============================] - 14s 460ms/step - loss: 0.1229 - accuracy: 0.9553 - val_loss: 0.2124 - val_accuracy: 0.9199\n",
            "Epoch 9/20\n",
            "30/30 [==============================] - 14s 461ms/step - loss: 0.1430 - accuracy: 0.9416 - val_loss: 0.1703 - val_accuracy: 0.9426\n",
            "Epoch 10/20\n",
            "30/30 [==============================] - 14s 470ms/step - loss: 0.0962 - accuracy: 0.9663 - val_loss: 0.1896 - val_accuracy: 0.9346\n",
            "Epoch 11/20\n",
            "30/30 [==============================] - 14s 468ms/step - loss: 0.0879 - accuracy: 0.9690 - val_loss: 0.1515 - val_accuracy: 0.9559\n",
            "Epoch 12/20\n",
            "30/30 [==============================] - 14s 468ms/step - loss: 0.0789 - accuracy: 0.9703 - val_loss: 0.1692 - val_accuracy: 0.9439\n",
            "Epoch 13/20\n",
            "30/30 [==============================] - 14s 461ms/step - loss: 0.0695 - accuracy: 0.9756 - val_loss: 0.1590 - val_accuracy: 0.9546\n",
            "Epoch 14/20\n",
            "30/30 [==============================] - 14s 460ms/step - loss: 0.0625 - accuracy: 0.9766 - val_loss: 0.1470 - val_accuracy: 0.9573\n",
            "Epoch 15/20\n",
            "30/30 [==============================] - 14s 461ms/step - loss: 0.0515 - accuracy: 0.9830 - val_loss: 0.1950 - val_accuracy: 0.9399\n",
            "Epoch 16/20\n",
            "30/30 [==============================] - 14s 459ms/step - loss: 0.0520 - accuracy: 0.9830 - val_loss: 0.1786 - val_accuracy: 0.9493\n",
            "Epoch 17/20\n",
            "30/30 [==============================] - 14s 469ms/step - loss: 0.0422 - accuracy: 0.9870 - val_loss: 0.1388 - val_accuracy: 0.9573\n",
            "Epoch 18/20\n",
            "30/30 [==============================] - 14s 460ms/step - loss: 0.0418 - accuracy: 0.9863 - val_loss: 0.1750 - val_accuracy: 0.9466\n",
            "Epoch 19/20\n",
            "30/30 [==============================] - 14s 470ms/step - loss: 0.0414 - accuracy: 0.9856 - val_loss: 0.1547 - val_accuracy: 0.9533\n",
            "Epoch 20/20\n",
            "30/30 [==============================] - 14s 468ms/step - loss: 0.0570 - accuracy: 0.9776 - val_loss: 0.1489 - val_accuracy: 0.9519\n"
          ]
        }
      ],
      "source": [
        "early_stopping = EarlyStopping(monitor='val_loss',min_delta=0,patience=2,verbose=0, mode='auto')\n",
        "EPOCHS = 20\n",
        "BATCH_SIZE = 100\n",
        "history = model.fit(X_train, Y_train, batch_size = BATCH_SIZE, epochs = EPOCHS, validation_data = (X_val, Y_val), verbose = 1)"
      ]
    },
    {
      "cell_type": "markdown",
      "metadata": {
        "id": "fp4SrVG6A_0w"
      },
      "source": [
        "# Plotting metrics"
      ]
    },
    {
      "cell_type": "code",
      "execution_count": null,
      "metadata": {
        "colab": {
          "base_uri": "https://localhost:8080/",
          "height": 296
        },
        "id": "Td6ELMQs1sPB",
        "outputId": "bcacfb27-ab1d-4548-cc78-4b0875a3f5be"
      },
      "outputs": [
        {
          "output_type": "display_data",
          "data": {
            "text/plain": [
              "<Figure size 2000x400 with 2 Axes>"
            ],
            "image/png": "[encoded data removed]"
          },
          "metadata": {}
        }
      ],
      "source": [
        "f, (ax1, ax2) = plt.subplots(1, 2, figsize=(20, 4))\n",
        "t = f.suptitle('Pre-trained VGG16 Transfer Learn with Fine-Tuning & Image Augmentation Performance ', fontsize=12)\n",
        "f.subplots_adjust(top=0.85, wspace=0.3)\n",
        "\n",
        "epoch_list = list(range(1,EPOCHS+1))\n",
        "ax1.plot(epoch_list, history.history['accuracy'], label='Train Accuracy')\n",
        "ax1.plot(epoch_list, history.history['val_accuracy'], label='Validation Accuracy')\n",
        "ax1.set_xticks(np.arange(0, EPOCHS+1, 1))\n",
        "ax1.set_ylabel('Accuracy Value')\n",
        "ax1.set_xlabel('Epoch #')\n",
        "ax1.set_title('Accuracy')\n",
        "l1 = ax1.legend(loc=\"best\")\n",
        "\n",
        "ax2.plot(epoch_list, history.history['loss'], label='Train Loss')\n",
        "ax2.plot(epoch_list, history.history['val_loss'], label='Validation Loss')\n",
        "ax2.set_xticks(np.arange(0, EPOCHS+1, 1))\n",
        "ax2.set_ylabel('Loss Value')\n",
        "ax2.set_xlabel('Epoch #')\n",
        "ax2.set_title('Loss')\n",
        "l2 = ax2.legend(loc=\"best\")"
      ]
    },
    {
      "cell_type": "code",
      "execution_count": null,
      "metadata": {
        "colab": {
          "base_uri": "https://localhost:8080/",
          "height": 619
        },
        "id": "OhKitvDY1whc",
        "outputId": "35190472-84a7-4ff8-a9bc-fb1d025dc88e"
      },
      "outputs": [
        {
          "output_type": "stream",
          "name": "stdout",
          "text": [
            "118/118 [==============================] - 9s 48ms/step\n",
            "True positive =  716\n",
            "False positive =  43\n",
            "False negative =  28\n",
            "True negative =  2958\n",
            "\n",
            "\n"
          ]
        },
        {
          "output_type": "display_data",
          "data": {
            "text/plain": [
              "<Figure size 640x480 with 2 Axes>"
            ],
            "image/png": "[encoded data removed]"
          },
          "metadata": {}
        }
      ],
      "source": [
        "#Output confusion matrix\n",
        "def print_confusion_matrix(y_true, y_pred):\n",
        "    \"\"\"\n",
        "    Plots confusion matrix\n",
        "\n",
        "    This function gives the rconfusion matrix as output in form of heatmap\n",
        "\n",
        "    Returns\n",
        "    -------\n",
        "    None\n",
        "    Arguments\n",
        "    ----------\n",
        "    y_true: list\n",
        "    y_pred: list\n",
        "\n",
        "    \"\"\"\n",
        "    cm = confusion_matrix(y_true, y_pred)\n",
        "    print('True positive = ', cm[0][0])\n",
        "    print('False positive = ', cm[0][1])\n",
        "    print('False negative = ', cm[1][0])\n",
        "    print('True negative = ', cm[1][1])\n",
        "    print('\\n')\n",
        "    df_cm = pd.DataFrame(cm, range(2), range(2))\n",
        "    sn.set(font_scale=1.4) # for label size\n",
        "    sn.heatmap(df_cm, annot=True, annot_kws={\"size\": 16}) # font size\n",
        "    plt.ylabel('Actual label', size = 20)\n",
        "    plt.xlabel('Predicted label', size = 20)\n",
        "    plt.xticks(np.arange(2), ['Fake', 'Real'], size = 16)\n",
        "    plt.yticks(np.arange(2), ['Fake', 'Real'], size = 16)\n",
        "    plt.ylim([2, 0])\n",
        "    plt.show()\n",
        "\n",
        "y_pred = model.predict(X)\n",
        "y_pred_classes = np.argmax(y_pred, axis=1)\n",
        "print_confusion_matrix(Y_val_org, y_pred_classes)"
      ]
    },
    {
      "cell_type": "markdown",
      "metadata": {
        "id": "ZCVPNaQJBM_x"
      },
      "source": [
        "# Saving model"
      ]
    },
    {
      "cell_type": "code",
      "execution_count": null,
      "metadata": {
        "id": "JzSpXyWy1y3z",
        "colab": {
          "base_uri": "https://localhost:8080/"
        },
        "outputId": "1e264d65-1420-4d78-9566-52864de97c06"
      },
      "outputs": [
        {
          "output_type": "stream",
          "name": "stderr",
          "text": [
            "/usr/local/lib/python3.10/dist-packages/keras/src/engine/training.py:3103: UserWarning: You are saving your model as an HDF5 file via `model.save()`. This file format is considered legacy. We recommend using instead the native Keras format, e.g. `model.save('my_model.keras')`.\n",
            "  saving_api.save_model(\n"
          ]
        }
      ],
      "source": [
        "model.save('/content/gdrive/MyDrive/dataset/deepfake-detection-model-vgg.h5')"
      ]
    },
    {
      "cell_type": "code",
      "source": [
        "import tensorflow as tf\n",
        "import dlib\n",
        "import cv2\n",
        "import os\n",
        "import shutil\n",
        "import numpy as np\n",
        "import matplotlib.pyplot as plt\n",
        "from PIL import Image, ImageChops, ImageEnhance\n",
        "from tensorflow.keras.models import load_model\n",
        "from tensorflow.keras.preprocessing.image import img_to_array, load_img"
      ],
      "metadata": {
        "id": "98lNslwRDD7O"
      },
      "execution_count": null,
      "outputs": []
    },
    {
      "cell_type": "code",
      "source": [
        "test_videos = '/content/gdrive/MyDrive/dataset/video'\n",
        "os.listdir(test_videos)"
      ],
      "metadata": {
        "colab": {
          "base_uri": "https://localhost:8080/"
        },
        "id": "0YQ84040DIUr",
        "outputId": "0d77188e-776d-4e73-f885-88ab919bcdea"
      },
      "execution_count": null,
      "outputs": [
        {
          "output_type": "execute_result",
          "data": {
            "text/plain": [
              "['afoovlsmtx.mp4',\n",
              " 'bbhtdfuqxq.mp4',\n",
              " 'chtapglbcj.mp4',\n",
              " 'cpjxareypw.mp4',\n",
              " 'dkzvdrzcnr.mp4',\n",
              " 'drcyabprvt.mp4',\n",
              " 'dqqtjcryjv.mp4',\n",
              " 'edyncaijwx.mp4']"
            ]
          },
          "metadata": {},
          "execution_count": 3
        }
      ]
    },
    {
      "cell_type": "code",
      "source": [
        "video_name = input(\"Enter a video name: \")\n",
        "video = video_name.split('.')[0]\n",
        "extension = video_name.split('.')[1]\n",
        "\n",
        "video_name = video + '.' + extension"
      ],
      "metadata": {
        "colab": {
          "base_uri": "https://localhost:8080/"
        },
        "id": "C4jLQvR9EPnp",
        "outputId": "c60954ef-7c46-43a0-828f-4603f431aa80"
      },
      "execution_count": null,
      "outputs": [
        {
          "name": "stdout",
          "output_type": "stream",
          "text": [
            "Enter a video name: bbhtdfuqxq.mp4\n"
          ]
        }
      ]
    },
    {
      "cell_type": "code",
      "source": [
        "def select_model(model_name):\n",
        "    if model_name == 'InceptionResnetv2':\n",
        "        detection_model = load_model('/content/gdrive/MyDrive/dataset/deepfake-detection-model-efficent.h5')\n",
        "    elif model_name == 'VGG16':\n",
        "        detection_model = load_model('/content/gdrive/MyDrive/deepfake-detection-model-vgg.h5')\n",
        "    else:\n",
        "        return \"An Error Occurred!!!\"\n",
        "    return detection_model\n",
        "\n",
        "model = input(\"Select a model: \\n\\n1)InceptionResnetv2   2)VGG16 \\n\\n\")\n",
        "if model == '1':\n",
        "    model = 'InceptionResnetv2'\n",
        "elif model == '2':\n",
        "    model = 'VGG16'\n",
        "else:\n",
        "    print(\"Enter correct option\")\n",
        "\n",
        "print(\"\\n\\nmodel: {} selected\".format(model))"
      ],
      "metadata": {
        "colab": {
          "base_uri": "https://localhost:8080/"
        },
        "id": "thBxKxqGESsp",
        "outputId": "ca42d030-453a-4826-ce55-7353503c1277"
      },
      "execution_count": null,
      "outputs": [
        {
          "output_type": "stream",
          "name": "stdout",
          "text": [
            "Select a model: \n",
            "\n",
            "1)InceptionResnetv2   2)VGG16 \n",
            "\n",
            "2\n",
            "\n",
            "\n",
            "model: VGG16 selected\n"
          ]
        }
      ]
    },
    {
      "cell_type": "code",
      "source": [
        "def prediction(model, video_path, folder_name):\n",
        "    result_path = '/content/gdrive/MyDrive/miniproject/' + folder_name\n",
        "    if os.path.exists(result_path):\n",
        "        shutil.rmtree(result_path)\n",
        "        os.makedirs(result_path)\n",
        "    else:\n",
        "        os.makedirs(result_path)\n",
        "    input_shape = (128, 128, 3)\n",
        "    pr_data = []\n",
        "    detector = dlib.get_frontal_face_detector()\n",
        "    cap = cv2.VideoCapture(video_path)\n",
        "    frameRate = cap.get(5)\n",
        "    count = 0\n",
        "    while cap.isOpened():\n",
        "\n",
        "        frameId = cap.get(1)\n",
        "        ret, frame = cap.read()\n",
        "        if ret != True:\n",
        "            break\n",
        "        count += 1\n",
        "        if frameId % ((int(frameRate)+1)*1) == 0:\n",
        "            face_rects, scores, idx = detector.run(frame, 0)\n",
        "            for i, d in enumerate(face_rects):\n",
        "                x1 = d.left()\n",
        "                y1 = d.top()\n",
        "                x2 = d.right()\n",
        "                y2 = d.bottom()\n",
        "                crop_img = frame[y1:y2, x1:x2]\n",
        "                data = tf.keras.utils.img_to_array(cv2.resize(crop_img, (128, 128))).flatten() / 255.0\n",
        "                data = data.reshape(-1, 128, 128, 3)\n",
        "                prediction_result = model.predict(data)\n",
        "                confidence = np.max(prediction_result) * 100\n",
        "                if np.argmax(prediction_result) == 1:\n",
        "                    plt.imshow(crop_img)\n",
        "                    plt.axis('off')\n",
        "                    plt.text(50, 20, 'FAKE %.2f%%' % confidence, fontsize=15, c='r')\n",
        "                    plt.savefig(result_path + '/' + 'frame%d.jpg' % count)\n",
        "                    print(\"writing frame : %d\" % count)\n",
        "                elif np.argmax(prediction_result) == 0:\n",
        "                    plt.imshow(crop_img)\n",
        "                    plt.axis('off')\n",
        "                    plt.text(50, 20, 'REAL %.2f%%' % confidence, fontsize=15, c='r')\n",
        "                    plt.savefig(result_path + '/' + 'frame%d.jpg' % count)\n",
        "                    print(\"writing frame : %d\" % count)\n",
        "        else:\n",
        "            face_rects, scores, idx = detector.run(frame, 0)\n",
        "            for i, d in enumerate(face_rects):\n",
        "                x1 = d.left()\n",
        "                y1 = d.top()\n",
        "                x2 = d.right()\n",
        "                y2 = d.bottom()\n",
        "                crop_img = frame[y1:y2, x1:x2]\n",
        "                data = tf.keras.utils.img_to_array(cv2.resize(crop_img, (128, 128))).flatten() / 255.0\n",
        "                data = data.reshape(-1, 128, 128, 3)\n",
        "                prediction_result = model.predict(data)\n",
        "                confidence = np.max(prediction_result) * 100\n",
        "                plt.imshow(crop_img)\n",
        "                plt.axis('off')\n",
        "                plt.text(50, 20, 'CONFIDENCE %.2f%%' % confidence, fontsize=15, c='r')\n",
        "                # plt.savefig(result_path + '/' + 'frame%d.jpg' % count)\n",
        "                print(\"writing frame : %d\" % count)\n",
        "\n",
        "mod = select_model(model)\n",
        "prediction(mod, '/content/gdrive/MyDrive/dataset/video/' + video_name, video)\n",
        "\n",
        "\n",
        "# def prediction(model):\n",
        "#     input_shape = (128, 128, 3)\n",
        "#     pr_data = []\n",
        "#     detector = dlib.get_frontal_face_detector()\n",
        "#     cap = cv2.VideoCapture(\"/content/gdrive/MyDrive/dataset/video/cpjxareypw.mp4\")\n",
        "#     frameRate = cap.get(5)\n",
        "#     while cap.isOpened():\n",
        "#         frameId = cap.get(1)\n",
        "#         ret, frame = cap.read()\n",
        "#         if ret != True:\n",
        "#             break\n",
        "#         if frameId % ((int(frameRate)+1)*1) == 0:\n",
        "#             face_rects, scores, idx = detector.run(frame, 0)\n",
        "#             for i, d in enumerate(face_rects):\n",
        "#                 x1 = d.left()\n",
        "#                 y1 = d.top()\n",
        "#                 x2 = d.right()\n",
        "#                 y2 = d.bottom()\n",
        "#                 crop_img = frame[y1:y2, x1:x2]\n",
        "#                 data = img_to_array(cv2.resize(crop_img, (128, 128))).flatten() / 255.0\n",
        "#                 data = data.reshape(-1, 128, 128, 3)\n",
        "#                 print(data)\n",
        "#                 print(\"hello\")\n",
        "#                 return np.argmax(model.predict(data))\n",
        "# mod = select_model(model)\n",
        "\n",
        "# result=prediction(mod)\n",
        "# print(result)"
      ],
      "metadata": {
        "colab": {
          "base_uri": "https://localhost:8080/",
          "height": 1000
        },
        "id": "_kNO1iyEE7IX",
        "outputId": "94daec6e-50d3-4b3e-83f1-511e60e3e703"
      },
      "execution_count": null,
      "outputs": [
        {
          "output_type": "stream",
          "name": "stdout",
          "text": [
            "1/1 [==============================] - 0s 196ms/step\n",
            "writing frame : 1\n",
            "1/1 [==============================] - 0s 26ms/step\n",
            "writing frame : 2\n",
            "1/1 [==============================] - 0s 32ms/step\n",
            "writing frame : 3\n",
            "1/1 [==============================] - 0s 29ms/step\n",
            "writing frame : 4\n",
            "1/1 [==============================] - 0s 29ms/step\n",
            "writing frame : 5\n",
            "1/1 [==============================] - 0s 18ms/step\n",
            "writing frame : 6\n",
            "1/1 [==============================] - 0s 18ms/step\n",
            "writing frame : 7\n",
            "1/1 [==============================] - 0s 17ms/step\n",
            "writing frame : 8\n",
            "1/1 [==============================] - 0s 17ms/step\n",
            "writing frame : 9\n",
            "1/1 [==============================] - 0s 25ms/step\n",
            "writing frame : 10\n",
            "1/1 [==============================] - 0s 19ms/step\n",
            "writing frame : 11\n",
            "1/1 [==============================] - 0s 20ms/step\n",
            "writing frame : 12\n",
            "1/1 [==============================] - 0s 17ms/step\n",
            "writing frame : 13\n",
            "1/1 [==============================] - 0s 17ms/step\n",
            "writing frame : 14\n",
            "1/1 [==============================] - 0s 20ms/step\n",
            "writing frame : 15\n",
            "1/1 [==============================] - 0s 19ms/step\n",
            "writing frame : 16\n",
            "1/1 [==============================] - 0s 19ms/step\n",
            "writing frame : 17\n",
            "1/1 [==============================] - 0s 17ms/step\n",
            "writing frame : 18\n",
            "1/1 [==============================] - 0s 17ms/step\n",
            "writing frame : 19\n",
            "1/1 [==============================] - 0s 17ms/step\n",
            "writing frame : 20\n",
            "1/1 [==============================] - 0s 17ms/step\n",
            "writing frame : 21\n",
            "1/1 [==============================] - 0s 17ms/step\n",
            "writing frame : 22\n",
            "1/1 [==============================] - 0s 18ms/step\n",
            "writing frame : 23\n",
            "1/1 [==============================] - 0s 18ms/step\n",
            "writing frame : 24\n",
            "1/1 [==============================] - 0s 18ms/step\n",
            "writing frame : 25\n",
            "1/1 [==============================] - 0s 18ms/step\n",
            "writing frame : 26\n",
            "1/1 [==============================] - 0s 17ms/step\n",
            "writing frame : 27\n",
            "1/1 [==============================] - 0s 17ms/step\n",
            "writing frame : 28\n",
            "1/1 [==============================] - 0s 18ms/step\n",
            "writing frame : 29\n",
            "1/1 [==============================] - 0s 18ms/step\n",
            "writing frame : 30\n",
            "1/1 [==============================] - 0s 17ms/step\n",
            "writing frame : 31\n",
            "1/1 [==============================] - 0s 21ms/step\n",
            "writing frame : 32\n",
            "1/1 [==============================] - 0s 29ms/step\n",
            "writing frame : 33\n",
            "1/1 [==============================] - 0s 28ms/step\n",
            "writing frame : 34\n",
            "1/1 [==============================] - 0s 25ms/step\n",
            "writing frame : 35\n",
            "1/1 [==============================] - 0s 26ms/step\n",
            "writing frame : 36\n",
            "1/1 [==============================] - 0s 31ms/step\n",
            "writing frame : 37\n",
            "1/1 [==============================] - 0s 25ms/step\n",
            "writing frame : 38\n",
            "1/1 [==============================] - 0s 19ms/step\n",
            "writing frame : 39\n",
            "1/1 [==============================] - 0s 17ms/step\n",
            "writing frame : 40\n",
            "1/1 [==============================] - 0s 17ms/step\n",
            "writing frame : 41\n",
            "1/1 [==============================] - 0s 20ms/step\n",
            "writing frame : 42\n",
            "1/1 [==============================] - 0s 17ms/step\n",
            "writing frame : 43\n",
            "1/1 [==============================] - 0s 18ms/step\n",
            "writing frame : 44\n",
            "1/1 [==============================] - 0s 17ms/step\n",
            "writing frame : 45\n",
            "1/1 [==============================] - 0s 18ms/step\n",
            "writing frame : 46\n",
            "1/1 [==============================] - 0s 17ms/step\n",
            "writing frame : 47\n",
            "1/1 [==============================] - 0s 17ms/step\n",
            "writing frame : 48\n",
            "1/1 [==============================] - 0s 18ms/step\n",
            "writing frame : 49\n",
            "1/1 [==============================] - 0s 19ms/step\n",
            "writing frame : 50\n",
            "1/1 [==============================] - 0s 17ms/step\n",
            "writing frame : 51\n",
            "1/1 [==============================] - 0s 20ms/step\n",
            "writing frame : 52\n",
            "1/1 [==============================] - 0s 18ms/step\n",
            "writing frame : 53\n",
            "1/1 [==============================] - 0s 18ms/step\n",
            "writing frame : 54\n",
            "1/1 [==============================] - 0s 18ms/step\n",
            "writing frame : 55\n",
            "1/1 [==============================] - 0s 17ms/step\n",
            "writing frame : 56\n",
            "1/1 [==============================] - 0s 18ms/step\n",
            "writing frame : 57\n",
            "1/1 [==============================] - 0s 17ms/step\n",
            "writing frame : 58\n",
            "1/1 [==============================] - 0s 17ms/step\n",
            "writing frame : 59\n",
            "1/1 [==============================] - 0s 21ms/step\n",
            "writing frame : 60\n",
            "1/1 [==============================] - 0s 19ms/step\n",
            "writing frame : 61\n",
            "1/1 [==============================] - 0s 25ms/step\n",
            "writing frame : 62\n",
            "1/1 [==============================] - 0s 18ms/step\n",
            "writing frame : 63\n",
            "1/1 [==============================] - 0s 18ms/step\n",
            "writing frame : 64\n",
            "1/1 [==============================] - 0s 28ms/step\n",
            "writing frame : 65\n",
            "1/1 [==============================] - 0s 26ms/step\n",
            "writing frame : 66\n",
            "1/1 [==============================] - 0s 27ms/step\n",
            "writing frame : 67\n",
            "1/1 [==============================] - 0s 28ms/step\n",
            "writing frame : 68\n",
            "1/1 [==============================] - 0s 26ms/step\n",
            "writing frame : 69\n",
            "1/1 [==============================] - 0s 26ms/step\n",
            "writing frame : 70\n",
            "1/1 [==============================] - 0s 29ms/step\n",
            "writing frame : 71\n",
            "1/1 [==============================] - 0s 19ms/step\n",
            "writing frame : 72\n",
            "1/1 [==============================] - 0s 17ms/step\n",
            "writing frame : 73\n",
            "1/1 [==============================] - 0s 18ms/step\n",
            "writing frame : 74\n",
            "1/1 [==============================] - 0s 18ms/step\n",
            "writing frame : 75\n",
            "1/1 [==============================] - 0s 18ms/step\n",
            "writing frame : 76\n",
            "1/1 [==============================] - 0s 19ms/step\n",
            "writing frame : 77\n",
            "1/1 [==============================] - 0s 17ms/step\n",
            "writing frame : 78\n",
            "1/1 [==============================] - 0s 17ms/step\n",
            "writing frame : 79\n",
            "1/1 [==============================] - 0s 20ms/step\n",
            "writing frame : 80\n",
            "1/1 [==============================] - 0s 17ms/step\n",
            "writing frame : 81\n",
            "1/1 [==============================] - 0s 17ms/step\n",
            "writing frame : 82\n",
            "1/1 [==============================] - 0s 18ms/step\n",
            "writing frame : 83\n",
            "1/1 [==============================] - 0s 17ms/step\n",
            "writing frame : 84\n",
            "1/1 [==============================] - 0s 28ms/step\n",
            "writing frame : 85\n",
            "1/1 [==============================] - 0s 18ms/step\n",
            "writing frame : 86\n",
            "1/1 [==============================] - 0s 18ms/step\n",
            "writing frame : 87\n",
            "1/1 [==============================] - 0s 17ms/step\n",
            "writing frame : 88\n",
            "1/1 [==============================] - 0s 17ms/step\n",
            "writing frame : 89\n",
            "1/1 [==============================] - 0s 18ms/step\n",
            "writing frame : 90\n",
            "1/1 [==============================] - 0s 17ms/step\n",
            "writing frame : 91\n",
            "1/1 [==============================] - 0s 18ms/step\n",
            "writing frame : 92\n",
            "1/1 [==============================] - 0s 18ms/step\n",
            "writing frame : 93\n",
            "1/1 [==============================] - 0s 29ms/step\n",
            "writing frame : 94\n",
            "1/1 [==============================] - 0s 17ms/step\n",
            "writing frame : 95\n",
            "1/1 [==============================] - 0s 18ms/step\n",
            "writing frame : 96\n",
            "1/1 [==============================] - 0s 28ms/step\n",
            "writing frame : 97\n",
            "1/1 [==============================] - 0s 25ms/step\n",
            "writing frame : 98\n",
            "1/1 [==============================] - 0s 28ms/step\n",
            "writing frame : 99\n",
            "1/1 [==============================] - 0s 25ms/step\n",
            "writing frame : 100\n",
            "1/1 [==============================] - 0s 34ms/step\n",
            "writing frame : 101\n",
            "1/1 [==============================] - 0s 28ms/step\n",
            "writing frame : 102\n",
            "1/1 [==============================] - 0s 18ms/step\n",
            "writing frame : 103\n",
            "1/1 [==============================] - 0s 17ms/step\n",
            "writing frame : 104\n",
            "1/1 [==============================] - 0s 17ms/step\n",
            "writing frame : 105\n",
            "1/1 [==============================] - 0s 17ms/step\n",
            "writing frame : 106\n",
            "1/1 [==============================] - 0s 18ms/step\n",
            "writing frame : 107\n",
            "1/1 [==============================] - 0s 18ms/step\n",
            "writing frame : 108\n",
            "1/1 [==============================] - 0s 19ms/step\n",
            "writing frame : 109\n",
            "1/1 [==============================] - 0s 19ms/step\n",
            "writing frame : 110\n",
            "1/1 [==============================] - 0s 19ms/step\n",
            "writing frame : 111\n",
            "1/1 [==============================] - 0s 18ms/step\n",
            "writing frame : 112\n",
            "1/1 [==============================] - 0s 18ms/step\n",
            "writing frame : 113\n",
            "1/1 [==============================] - 0s 26ms/step\n",
            "writing frame : 114\n",
            "1/1 [==============================] - 0s 19ms/step\n",
            "writing frame : 115\n",
            "1/1 [==============================] - 0s 18ms/step\n",
            "writing frame : 116\n",
            "1/1 [==============================] - 0s 20ms/step\n",
            "writing frame : 117\n",
            "1/1 [==============================] - 0s 18ms/step\n",
            "writing frame : 118\n",
            "1/1 [==============================] - 0s 17ms/step\n",
            "writing frame : 119\n",
            "1/1 [==============================] - 0s 19ms/step\n",
            "writing frame : 120\n",
            "1/1 [==============================] - 0s 17ms/step\n",
            "writing frame : 121\n",
            "1/1 [==============================] - 0s 18ms/step\n",
            "writing frame : 122\n",
            "1/1 [==============================] - 0s 18ms/step\n",
            "writing frame : 123\n",
            "1/1 [==============================] - 0s 18ms/step\n",
            "writing frame : 124\n",
            "1/1 [==============================] - 0s 28ms/step\n",
            "writing frame : 125\n",
            "1/1 [==============================] - 0s 18ms/step\n",
            "writing frame : 126\n",
            "1/1 [==============================] - 0s 22ms/step\n",
            "writing frame : 127\n",
            "1/1 [==============================] - 0s 25ms/step\n",
            "writing frame : 128\n",
            "1/1 [==============================] - 0s 29ms/step\n",
            "writing frame : 129\n",
            "1/1 [==============================] - 0s 28ms/step\n",
            "writing frame : 130\n",
            "1/1 [==============================] - 0s 30ms/step\n",
            "writing frame : 131\n",
            "1/1 [==============================] - 0s 32ms/step\n",
            "writing frame : 132\n",
            "1/1 [==============================] - 0s 33ms/step\n",
            "writing frame : 133\n",
            "1/1 [==============================] - 0s 25ms/step\n",
            "writing frame : 134\n",
            "1/1 [==============================] - 0s 20ms/step\n",
            "writing frame : 135\n",
            "1/1 [==============================] - 0s 18ms/step\n",
            "writing frame : 136\n",
            "1/1 [==============================] - 0s 18ms/step\n",
            "writing frame : 137\n",
            "1/1 [==============================] - 0s 17ms/step\n",
            "writing frame : 138\n",
            "1/1 [==============================] - 0s 19ms/step\n",
            "writing frame : 139\n",
            "1/1 [==============================] - 0s 18ms/step\n",
            "writing frame : 140\n",
            "1/1 [==============================] - 0s 18ms/step\n",
            "writing frame : 141\n",
            "1/1 [==============================] - 0s 18ms/step\n",
            "writing frame : 142\n",
            "1/1 [==============================] - 0s 18ms/step\n",
            "writing frame : 143\n",
            "1/1 [==============================] - 0s 19ms/step\n",
            "writing frame : 144\n",
            "1/1 [==============================] - 0s 17ms/step\n",
            "writing frame : 145\n",
            "1/1 [==============================] - 0s 18ms/step\n",
            "writing frame : 146\n",
            "1/1 [==============================] - 0s 18ms/step\n",
            "writing frame : 147\n",
            "1/1 [==============================] - 0s 20ms/step\n",
            "writing frame : 148\n",
            "1/1 [==============================] - 0s 19ms/step\n",
            "writing frame : 149\n",
            "1/1 [==============================] - 0s 18ms/step\n",
            "writing frame : 150\n",
            "1/1 [==============================] - 0s 18ms/step\n",
            "writing frame : 151\n",
            "1/1 [==============================] - 0s 18ms/step\n",
            "writing frame : 152\n",
            "1/1 [==============================] - 0s 18ms/step\n",
            "writing frame : 153\n",
            "1/1 [==============================] - 0s 17ms/step\n",
            "writing frame : 154\n",
            "1/1 [==============================] - 0s 17ms/step\n",
            "writing frame : 155\n",
            "1/1 [==============================] - 0s 18ms/step\n",
            "writing frame : 156\n",
            "1/1 [==============================] - 0s 26ms/step\n",
            "writing frame : 157\n",
            "1/1 [==============================] - 0s 29ms/step\n",
            "writing frame : 158\n",
            "1/1 [==============================] - 0s 32ms/step\n",
            "writing frame : 159\n",
            "1/1 [==============================] - 0s 26ms/step\n",
            "writing frame : 160\n",
            "1/1 [==============================] - 0s 26ms/step\n",
            "writing frame : 161\n",
            "1/1 [==============================] - 0s 31ms/step\n",
            "writing frame : 162\n",
            "1/1 [==============================] - 0s 21ms/step\n",
            "writing frame : 163\n",
            "1/1 [==============================] - 0s 28ms/step\n",
            "writing frame : 164\n",
            "1/1 [==============================] - 0s 18ms/step\n",
            "writing frame : 165\n",
            "1/1 [==============================] - 0s 19ms/step\n",
            "writing frame : 166\n",
            "1/1 [==============================] - 0s 18ms/step\n",
            "writing frame : 167\n",
            "1/1 [==============================] - 0s 19ms/step\n",
            "writing frame : 168\n",
            "1/1 [==============================] - 0s 17ms/step\n",
            "writing frame : 169\n",
            "1/1 [==============================] - 0s 19ms/step\n",
            "writing frame : 170\n",
            "1/1 [==============================] - 0s 18ms/step\n",
            "writing frame : 171\n",
            "1/1 [==============================] - 0s 18ms/step\n",
            "writing frame : 172\n",
            "1/1 [==============================] - 0s 18ms/step\n",
            "writing frame : 173\n",
            "1/1 [==============================] - 0s 18ms/step\n",
            "writing frame : 174\n",
            "1/1 [==============================] - 0s 17ms/step\n",
            "writing frame : 175\n",
            "1/1 [==============================] - 0s 20ms/step\n",
            "writing frame : 176\n",
            "1/1 [==============================] - 0s 23ms/step\n",
            "writing frame : 177\n",
            "1/1 [==============================] - 0s 17ms/step\n",
            "writing frame : 178\n",
            "1/1 [==============================] - 0s 18ms/step\n",
            "writing frame : 179\n",
            "1/1 [==============================] - 0s 18ms/step\n",
            "writing frame : 180\n",
            "1/1 [==============================] - 0s 17ms/step\n",
            "writing frame : 181\n",
            "1/1 [==============================] - 0s 18ms/step\n",
            "writing frame : 182\n",
            "1/1 [==============================] - 0s 18ms/step\n",
            "writing frame : 183\n",
            "1/1 [==============================] - 0s 18ms/step\n",
            "writing frame : 184\n",
            "1/1 [==============================] - 0s 18ms/step\n",
            "writing frame : 185\n",
            "1/1 [==============================] - 0s 32ms/step\n",
            "writing frame : 186\n",
            "1/1 [==============================] - 0s 29ms/step\n",
            "writing frame : 187\n",
            "1/1 [==============================] - 0s 28ms/step\n",
            "writing frame : 188\n",
            "1/1 [==============================] - 0s 36ms/step\n",
            "writing frame : 189\n",
            "1/1 [==============================] - 0s 26ms/step\n",
            "writing frame : 190\n",
            "1/1 [==============================] - 0s 37ms/step\n",
            "writing frame : 191\n",
            "1/1 [==============================] - 0s 17ms/step\n",
            "writing frame : 192\n",
            "1/1 [==============================] - 0s 17ms/step\n",
            "writing frame : 193\n",
            "1/1 [==============================] - 0s 18ms/step\n",
            "writing frame : 194\n",
            "1/1 [==============================] - 0s 18ms/step\n",
            "writing frame : 195\n",
            "1/1 [==============================] - 0s 18ms/step\n",
            "writing frame : 196\n",
            "1/1 [==============================] - 0s 18ms/step\n",
            "writing frame : 197\n",
            "1/1 [==============================] - 0s 20ms/step\n",
            "writing frame : 198\n",
            "1/1 [==============================] - 0s 17ms/step\n",
            "writing frame : 199\n",
            "1/1 [==============================] - 0s 18ms/step\n",
            "writing frame : 200\n",
            "1/1 [==============================] - 0s 17ms/step\n",
            "writing frame : 201\n",
            "1/1 [==============================] - 0s 27ms/step\n",
            "writing frame : 202\n",
            "1/1 [==============================] - 0s 17ms/step\n",
            "writing frame : 203\n",
            "1/1 [==============================] - 0s 18ms/step\n",
            "writing frame : 204\n",
            "1/1 [==============================] - 0s 17ms/step\n",
            "writing frame : 205\n",
            "1/1 [==============================] - 0s 18ms/step\n",
            "writing frame : 206\n",
            "1/1 [==============================] - 0s 19ms/step\n",
            "writing frame : 207\n",
            "1/1 [==============================] - 0s 18ms/step\n",
            "writing frame : 208\n",
            "1/1 [==============================] - 0s 17ms/step\n",
            "writing frame : 209\n",
            "1/1 [==============================] - 0s 18ms/step\n",
            "writing frame : 210\n",
            "1/1 [==============================] - 0s 18ms/step\n",
            "writing frame : 211\n",
            "1/1 [==============================] - 0s 19ms/step\n",
            "writing frame : 212\n",
            "1/1 [==============================] - 0s 18ms/step\n",
            "writing frame : 213\n",
            "1/1 [==============================] - 0s 20ms/step\n",
            "writing frame : 214\n",
            "1/1 [==============================] - 0s 28ms/step\n",
            "writing frame : 215\n",
            "1/1 [==============================] - 0s 34ms/step\n",
            "writing frame : 216\n",
            "1/1 [==============================] - 0s 28ms/step\n",
            "writing frame : 217\n",
            "1/1 [==============================] - 0s 28ms/step\n",
            "writing frame : 218\n",
            "1/1 [==============================] - 0s 28ms/step\n",
            "writing frame : 219\n",
            "1/1 [==============================] - 0s 30ms/step\n",
            "writing frame : 220\n",
            "1/1 [==============================] - 0s 17ms/step\n",
            "writing frame : 221\n",
            "1/1 [==============================] - 0s 17ms/step\n",
            "writing frame : 222\n",
            "1/1 [==============================] - 0s 19ms/step\n",
            "writing frame : 223\n",
            "1/1 [==============================] - 0s 20ms/step\n",
            "writing frame : 224\n",
            "1/1 [==============================] - 0s 18ms/step\n",
            "writing frame : 225\n",
            "1/1 [==============================] - 0s 18ms/step\n",
            "writing frame : 226\n",
            "1/1 [==============================] - 0s 18ms/step\n",
            "writing frame : 227\n",
            "1/1 [==============================] - 0s 18ms/step\n",
            "writing frame : 228\n",
            "1/1 [==============================] - 0s 20ms/step\n",
            "writing frame : 229\n",
            "1/1 [==============================] - 0s 17ms/step\n",
            "writing frame : 230\n",
            "1/1 [==============================] - 0s 26ms/step\n",
            "writing frame : 231\n",
            "1/1 [==============================] - 0s 18ms/step\n",
            "writing frame : 232\n",
            "1/1 [==============================] - 0s 17ms/step\n",
            "writing frame : 233\n",
            "1/1 [==============================] - 0s 18ms/step\n",
            "writing frame : 234\n",
            "1/1 [==============================] - 0s 19ms/step\n",
            "writing frame : 235\n",
            "1/1 [==============================] - 0s 19ms/step\n",
            "writing frame : 236\n",
            "1/1 [==============================] - 0s 19ms/step\n",
            "writing frame : 237\n",
            "1/1 [==============================] - 0s 19ms/step\n",
            "writing frame : 238\n",
            "1/1 [==============================] - 0s 18ms/step\n",
            "writing frame : 239\n",
            "1/1 [==============================] - 0s 18ms/step\n",
            "writing frame : 240\n",
            "1/1 [==============================] - 0s 18ms/step\n",
            "writing frame : 241\n",
            "1/1 [==============================] - 0s 33ms/step\n",
            "writing frame : 242\n",
            "1/1 [==============================] - 0s 27ms/step\n",
            "writing frame : 243\n",
            "1/1 [==============================] - 0s 25ms/step\n",
            "writing frame : 244\n",
            "1/1 [==============================] - 0s 28ms/step\n",
            "writing frame : 245\n",
            "1/1 [==============================] - 0s 30ms/step\n",
            "writing frame : 246\n",
            "1/1 [==============================] - 0s 27ms/step\n",
            "writing frame : 247\n",
            "1/1 [==============================] - 0s 31ms/step\n",
            "writing frame : 248\n",
            "1/1 [==============================] - 0s 17ms/step\n",
            "writing frame : 249\n",
            "1/1 [==============================] - 0s 21ms/step\n",
            "writing frame : 250\n",
            "1/1 [==============================] - 0s 19ms/step\n",
            "writing frame : 251\n",
            "1/1 [==============================] - 0s 17ms/step\n",
            "writing frame : 252\n",
            "1/1 [==============================] - 0s 17ms/step\n",
            "writing frame : 253\n",
            "1/1 [==============================] - 0s 18ms/step\n",
            "writing frame : 254\n",
            "1/1 [==============================] - 0s 17ms/step\n",
            "writing frame : 255\n",
            "1/1 [==============================] - 0s 18ms/step\n",
            "writing frame : 256\n",
            "1/1 [==============================] - 0s 18ms/step\n",
            "writing frame : 257\n",
            "1/1 [==============================] - 0s 22ms/step\n",
            "writing frame : 258\n",
            "1/1 [==============================] - 0s 18ms/step\n",
            "writing frame : 259\n",
            "1/1 [==============================] - 0s 18ms/step\n",
            "writing frame : 260\n",
            "1/1 [==============================] - 0s 19ms/step\n",
            "writing frame : 261\n",
            "1/1 [==============================] - 0s 18ms/step\n",
            "writing frame : 262\n",
            "1/1 [==============================] - 0s 17ms/step\n",
            "writing frame : 263\n",
            "1/1 [==============================] - 0s 17ms/step\n",
            "writing frame : 264\n",
            "1/1 [==============================] - 0s 17ms/step\n",
            "writing frame : 265\n",
            "1/1 [==============================] - 0s 18ms/step\n",
            "writing frame : 266\n",
            "1/1 [==============================] - 0s 19ms/step\n",
            "writing frame : 267\n",
            "1/1 [==============================] - 0s 19ms/step\n",
            "writing frame : 268\n",
            "1/1 [==============================] - 0s 18ms/step\n",
            "writing frame : 269\n",
            "1/1 [==============================] - 0s 18ms/step\n",
            "writing frame : 270\n",
            "1/1 [==============================] - 0s 18ms/step\n",
            "writing frame : 271\n",
            "1/1 [==============================] - 0s 32ms/step\n",
            "writing frame : 272\n",
            "1/1 [==============================] - 0s 27ms/step\n",
            "writing frame : 273\n",
            "1/1 [==============================] - 0s 18ms/step\n",
            "writing frame : 274\n",
            "1/1 [==============================] - 0s 18ms/step\n",
            "writing frame : 275\n",
            "1/1 [==============================] - 0s 19ms/step\n",
            "writing frame : 276\n",
            "1/1 [==============================] - 0s 18ms/step\n",
            "writing frame : 277\n",
            "1/1 [==============================] - 0s 18ms/step\n",
            "writing frame : 278\n",
            "1/1 [==============================] - 0s 19ms/step\n",
            "writing frame : 279\n",
            "1/1 [==============================] - 0s 18ms/step\n",
            "writing frame : 280\n",
            "1/1 [==============================] - 0s 19ms/step\n",
            "writing frame : 281\n",
            "1/1 [==============================] - 0s 23ms/step\n",
            "writing frame : 282\n",
            "1/1 [==============================] - 0s 18ms/step\n",
            "writing frame : 283\n",
            "1/1 [==============================] - 0s 19ms/step\n",
            "writing frame : 284\n",
            "1/1 [==============================] - 0s 19ms/step\n",
            "writing frame : 285\n",
            "1/1 [==============================] - 0s 18ms/step\n",
            "writing frame : 286\n",
            "1/1 [==============================] - 0s 18ms/step\n",
            "writing frame : 287\n",
            "1/1 [==============================] - 0s 18ms/step\n",
            "writing frame : 288\n",
            "1/1 [==============================] - 0s 18ms/step\n",
            "writing frame : 289\n",
            "1/1 [==============================] - 0s 18ms/step\n",
            "writing frame : 290\n",
            "1/1 [==============================] - 0s 18ms/step\n",
            "writing frame : 291\n",
            "1/1 [==============================] - 0s 20ms/step\n",
            "writing frame : 292\n",
            "1/1 [==============================] - 0s 18ms/step\n",
            "writing frame : 293\n",
            "1/1 [==============================] - 0s 18ms/step\n",
            "writing frame : 294\n",
            "1/1 [==============================] - 0s 18ms/step\n",
            "writing frame : 295\n",
            "1/1 [==============================] - 0s 18ms/step\n",
            "writing frame : 296\n",
            "1/1 [==============================] - 0s 19ms/step\n",
            "writing frame : 297\n",
            "1/1 [==============================] - 0s 18ms/step\n",
            "writing frame : 298\n",
            "1/1 [==============================] - 0s 18ms/step\n",
            "writing frame : 299\n",
            "1/1 [==============================] - 0s 19ms/step\n",
            "writing frame : 300\n"
          ]
        },
        {
          "output_type": "display_data",
          "data": {
            "text/plain": [
              "<Figure size 640x480 with 1 Axes>"
            ],
            "image/png": "[encoded data removed]"
          },
          "metadata": {}
        }
      ]
    },
    {
      "cell_type": "code",
      "source": [
        "print(result)"
      ],
      "metadata": {
        "id": "XPwaJ_eTFCxb",
        "colab": {
          "base_uri": "https://localhost:8080/"
        },
        "outputId": "1bbd804d-4f2c-44e6-ed89-2ca56f61e571"
      },
      "execution_count": null,
      "outputs": [
        {
          "output_type": "stream",
          "name": "stdout",
          "text": [
            "1\n"
          ]
        }
      ]
    }
  ],
  "metadata": {
    "accelerator": "GPU",
    "colab": {
      "provenance": [],
      "gpuType": "T4"
    },
    "kernelspec": {
      "display_name": "Python 3",
      "name": "python3"
    },
    "language_info": {
      "codemirror_mode": {
        "name": "ipython",
        "version": 3
      },
      "file_extension": ".py",
      "mimetype": "text/x-python",
      "name": "python",
      "nbconvert_exporter": "python",
      "pygments_lexer": "ipython3",
      "version": "3.11.5"
    }
  },
  "nbformat": 4,
  "nbformat_minor": 0
}